{
  "nbformat": 4,
  "nbformat_minor": 0,
  "metadata": {
    "colab": {
      "provenance": [],
      "collapsed_sections": []
    },
    "kernelspec": {
      "name": "python3",
      "display_name": "Python 3"
    },
    "language_info": {
      "name": "python"
    }
  },
  "cells": [
    {
      "cell_type": "code",
      "execution_count": 1,
      "metadata": {
        "id": "ndKkZp_flPH_"
      },
      "outputs": [],
      "source": [
        "import requests\n",
        "from bs4 import BeautifulSoup\n",
        "import pandas as pd"
      ]
    },
    {
      "cell_type": "code",
      "source": [
        "r = requests.get('https://www.hltv.org/matches/2357640/vitality-vs-og-blast-premier-fall-groups-2022')\n",
        "r.text"
      ],
      "metadata": {
        "colab": {
          "base_uri": "https://localhost:8080/",
          "height": 105
        },
        "id": "-9QQ23dUlYiD",
        "outputId": "f0213af4-ac32-41fc-e6d4-3c5a0a0cc950"
      },
      "execution_count": 2,
      "outputs": [
        {
          "output_type": "execute_result",
          "data": {
            "text/plain": [
              "'<!DOCTYPE html>\\n<!--[if lt IE 7]> <html class=\"no-js ie6 oldie\" lang=\"en-US\"> <![endif]-->\\n<!--[if IE 7]>    <html class=\"no-js ie7 oldie\" lang=\"en-US\"> <![endif]-->\\n<!--[if IE 8]>    <html class=\"no-js ie8 oldie\" lang=\"en-US\"> <![endif]-->\\n<!--[if gt IE 8]><!--> <html class=\"no-js\" lang=\"en-US\"> <!--<![endif]-->\\n<head>\\n<title>Attention Required! | Cloudflare</title>\\n<meta charset=\"UTF-8\" />\\n<meta http-equiv=\"Content-Type\" content=\"text/html; charset=UTF-8\" />\\n<meta http-equiv=\"X-UA-Compatible\" content=\"IE=Edge\" />\\n<meta name=\"robots\" content=\"noindex, nofollow\" />\\n<meta name=\"viewport\" content=\"width=device-width,initial-scale=1\" />\\n<link rel=\"stylesheet\" id=\"cf_styles-css\" href=\"/cdn-cgi/styles/cf.errors.css\" />\\n<!--[if lt IE 9]><link rel=\"stylesheet\" id=\\'cf_styles-ie-css\\' href=\"/cdn-cgi/styles/cf.errors.ie.css\" /><![endif]-->\\n<style>body{margin:0;padding:0}</style>\\n\\n\\n<!--[if gte IE 10]><!-->\\n<script>\\n  if (!navigator.cookieEnabled) {\\n    window.addEventListener(\\'DOMContentLoaded\\', function () {\\n      var cookieEl = document.getElementById(\\'cookie-alert\\');\\n      cookieEl.style.display = \\'block\\';\\n    })\\n  }\\n</script>\\n<!--<![endif]-->\\n\\n\\n</head>\\n<body>\\n  <div id=\"cf-wrapper\">\\n    <div class=\"cf-alert cf-alert-error cf-cookie-error\" id=\"cookie-alert\" data-translate=\"enable_cookies\">Please enable cookies.</div>\\n    <div id=\"cf-error-details\" class=\"cf-error-details-wrapper\">\\n      <div class=\"cf-wrapper cf-header cf-error-overview\">\\n        <h1 data-translate=\"block_headline\">Sorry, you have been blocked</h1>\\n        <h2 class=\"cf-subheadline\"><span data-translate=\"unable_to_access\">You are unable to access</span> hltv.org</h2>\\n      </div><!-- /.header -->\\n\\n      <div class=\"cf-section cf-highlight\">\\n        <div class=\"cf-wrapper\">\\n          <div class=\"cf-screenshot-container cf-screenshot-full\">\\n            \\n              <span class=\"cf-no-screenshot error\"></span>\\n            \\n          </div>\\n        </div>\\n      </div><!-- /.captcha-container -->\\n\\n      <div class=\"cf-section cf-wrapper\">\\n        <div class=\"cf-columns two\">\\n          <div class=\"cf-column\">\\n            <h2 data-translate=\"blocked_why_headline\">Why have I been blocked?</h2>\\n\\n            <p data-translate=\"blocked_why_detail\">This website is using a security service to protect itself from online attacks. The action you just performed triggered the security solution. There are several actions that could trigger this block including submitting a certain word or phrase, a SQL command or malformed data.</p>\\n          </div>\\n\\n          <div class=\"cf-column\">\\n            <h2 data-translate=\"blocked_resolve_headline\">What can I do to resolve this?</h2>\\n\\n            <p data-translate=\"blocked_resolve_detail\">You can email the site owner to let them know you were blocked. Please include what you were doing when this page came up and the Cloudflare Ray ID found at the bottom of this page.</p>\\n          </div>\\n        </div>\\n      </div><!-- /.section -->\\n\\n      <div class=\"cf-error-footer cf-wrapper w-240 lg:w-full py-10 sm:py-4 sm:px-8 mx-auto text-center sm:text-left border-solid border-0 border-t border-gray-300\">\\n  <p class=\"text-13\">\\n    <span class=\"cf-footer-item sm:block sm:mb-1\">Cloudflare Ray ID: <strong class=\"font-semibold\">74ccd3bd0cae8753</strong></span>\\n    <span class=\"cf-footer-separator sm:hidden\">&bull;</span>\\n    <span id=\"cf-footer-item-ip\" class=\"cf-footer-item hidden sm:block sm:mb-1\">\\n      Your IP:\\n      <button type=\"button\" id=\"cf-footer-ip-reveal\" class=\"cf-footer-ip-reveal-btn\">Click to reveal</button>\\n      <span class=\"hidden\" id=\"cf-footer-ip\">34.123.249.130</span>\\n      <span class=\"cf-footer-separator sm:hidden\">&bull;</span>\\n    </span>\\n    <span class=\"cf-footer-item sm:block sm:mb-1\"><span>Performance &amp; security by</span> <a rel=\"noopener noreferrer\" href=\"https://www.cloudflare.com/5xx-error-landing\" id=\"brand_link\" target=\"_blank\">Cloudflare</a></span>\\n    \\n  </p>\\n  <script>(function(){function d(){var b=a.getElementById(\"cf-footer-item-ip\"),c=a.getElementById(\"cf-footer-ip-reveal\");b&&\"classList\"in b&&(b.classList.remove(\"hidden\"),c.addEventListener(\"click\",function(){c.classList.add(\"hidden\");a.getElementById(\"cf-footer-ip\").classList.remove(\"hidden\")}))}var a=document;document.addEventListener&&a.addEventListener(\"DOMContentLoaded\",d)})();</script>\\n</div><!-- /.error-footer -->\\n\\n\\n    </div><!-- /#cf-error-details -->\\n  </div><!-- /#cf-wrapper -->\\n\\n  <script>\\n  window._cf_translation = {};\\n  \\n  \\n</script>\\n\\n</body>\\n</html>\\n'"
            ],
            "application/vnd.google.colaboratory.intrinsic+json": {
              "type": "string"
            }
          },
          "metadata": {},
          "execution_count": 2
        }
      ]
    },
    {
      "cell_type": "code",
      "source": [
        "html_status = \"\"\"<div class=\"stats-content\" id=\"all-content\">\n",
        "                    <table class=\"table totalstats\">\n",
        "                      <tbody><tr class=\"header-row\">\n",
        "                        <td class=\"players\">\n",
        "                          <div class=\"align-logo\"><img alt=\"Vitality\" class=\"logo\" title=\"Vitality\" height=\"25px\" width=\"25px\" src=\"https://img-cdn.hltv.org/teamlogo/GAlByJtDTnkgbb9p_71SUL.png?ixlib=java-2.1.0&amp;w=50&amp;s=2838cd78a5ebb5c9fea4c485908e9dbb\"><a href=\"/team/9565/vitality\" class=\"teamName team\">Vitality</a></div>\n",
        "                        </td>\n",
        "                        <td class=\"kd text-center\">K-D</td>\n",
        "                        <td class=\"plus-minus text-center gtSmartphone-only\">+/-</td>\n",
        "                        <td class=\"adr text-center\">ADR</td>\n",
        "                        <td class=\"kast text-center\" title=\"Percentage of rounds in which the player either had a kill, assist, survived or was traded\">KAST</td>\n",
        "                        <td class=\"rating text-center\">Rating<span class=\"ratingDesc\">2.0</span></td>\n",
        "                      </tr>\n",
        "                      <tr class=\"\">\n",
        "                        <td class=\"players\">\n",
        "                          <div class=\"flagAlign\"><a href=\"/player/11893/zywoo\" class=\"flagAlign no-maps-indicator-offset\"><img alt=\"France\" src=\"/img/static/flags/30x20/FR.gif\" class=\"flag flag\" title=\"France\">\n",
        "                              <div class=\"gtSmartphone-only statsPlayerName\">Mathieu '<span class=\"player-nick\">ZywOo</span>' Herbaut</div>\n",
        "                              <div class=\"smartphone-only statsPlayerName\">ZywOo</div>\n",
        "                            </a></div>\n",
        "                        </td>\n",
        "                        <td class=\"kd text-center\">27-13</td>\n",
        "                        <td class=\"plus-minus text-center gtSmartphone-only\"><span class=\"won\">+14</span></td>\n",
        "                        <td class=\"adr text-center \">99.6</td>\n",
        "                        <td class=\"kast text-center\">88.9%</td>\n",
        "                        <td class=\"rating text-center\">1.68</td>\n",
        "                      </tr>\n",
        "                      <tr class=\"\">\n",
        "                        <td class=\"players\">\n",
        "                          <div class=\"flagAlign\"><a href=\"/player/18221/spinx\" class=\"flagAlign no-maps-indicator-offset\"><img alt=\"Israel\" src=\"/img/static/flags/30x20/IL.gif\" class=\"flag flag\" title=\"Israel\">\n",
        "                              <div class=\"gtSmartphone-only statsPlayerName\">Lotan '<span class=\"player-nick\">Spinx</span>' Giladi</div>\n",
        "                              <div class=\"smartphone-only statsPlayerName\">Spinx</div>\n",
        "                            </a></div>\n",
        "                        </td>\n",
        "                        <td class=\"kd text-center\">22-11</td>\n",
        "                        <td class=\"plus-minus text-center gtSmartphone-only\"><span class=\"won\">+11</span></td>\n",
        "                        <td class=\"adr text-center \">80.6</td>\n",
        "                        <td class=\"kast text-center\">81.5%</td>\n",
        "                        <td class=\"rating text-center\">1.39</td>\n",
        "                      </tr>\n",
        "                      <tr class=\"\">\n",
        "                        <td class=\"players\">\n",
        "                          <div class=\"flagAlign\"><a href=\"/player/9032/magisk\" class=\"flagAlign no-maps-indicator-offset\"><img alt=\"Denmark\" src=\"/img/static/flags/30x20/DK.gif\" class=\"flag flag\" title=\"Denmark\">\n",
        "                              <div class=\"gtSmartphone-only statsPlayerName\">Emil '<span class=\"player-nick\">Magisk</span>' Reif</div>\n",
        "                              <div class=\"smartphone-only statsPlayerName\">Magisk</div>\n",
        "                            </a></div>\n",
        "                        </td>\n",
        "                        <td class=\"kd text-center\">16-13</td>\n",
        "                        <td class=\"plus-minus text-center gtSmartphone-only\"><span class=\"won\">+3</span></td>\n",
        "                        <td class=\"adr text-center \">73.0</td>\n",
        "                        <td class=\"kast text-center\">81.5%</td>\n",
        "                        <td class=\"rating text-center\">1.16</td>\n",
        "                      </tr>\n",
        "                      <tr class=\"\">\n",
        "                        <td class=\"players\">\n",
        "                          <div class=\"flagAlign\"><a href=\"/player/7398/dupreeh\" class=\"flagAlign no-maps-indicator-offset\"><img alt=\"Denmark\" src=\"/img/static/flags/30x20/DK.gif\" class=\"flag flag\" title=\"Denmark\">\n",
        "                              <div class=\"gtSmartphone-only statsPlayerName\">Peter '<span class=\"player-nick\">dupreeh</span>' Rasmussen</div>\n",
        "                              <div class=\"smartphone-only statsPlayerName\">dupreeh</div>\n",
        "                            </a></div>\n",
        "                        </td>\n",
        "                        <td class=\"kd text-center\">17-15</td>\n",
        "                        <td class=\"plus-minus text-center gtSmartphone-only\"><span class=\"won\">+2</span></td>\n",
        "                        <td class=\"adr text-center \">64.0</td>\n",
        "                        <td class=\"kast text-center\">81.5%</td>\n",
        "                        <td class=\"rating text-center\">1.04</td>\n",
        "                      </tr>\n",
        "                      <tr class=\"\">\n",
        "                        <td class=\"players\">\n",
        "                          <div class=\"flagAlign\"><a href=\"/player/7322/apex\" class=\"flagAlign no-maps-indicator-offset\"><img alt=\"France\" src=\"/img/static/flags/30x20/FR.gif\" class=\"flag flag\" title=\"France\">\n",
        "                              <div class=\"gtSmartphone-only statsPlayerName\">Dan '<span class=\"player-nick\">apEX</span>' Madesclaire</div>\n",
        "                              <div class=\"smartphone-only statsPlayerName\">apEX</div>\n",
        "                            </a></div>\n",
        "                        </td>\n",
        "                        <td class=\"kd text-center\">8-22</td>\n",
        "                        <td class=\"plus-minus text-center gtSmartphone-only\"><span class=\"lost\">-14</span></td>\n",
        "                        <td class=\"adr text-center \">55.4</td>\n",
        "                        <td class=\"kast text-center\">74.1%</td>\n",
        "                        <td class=\"rating text-center\">0.72</td>\n",
        "                      </tr>\n",
        "                    </tbody></table>\n",
        "                  </div>\"\"\""
      ],
      "metadata": {
        "id": "dAJsdWjAh1OV"
      },
      "execution_count": 4,
      "outputs": []
    },
    {
      "cell_type": "code",
      "source": [
        "soup = BeautifulSoup(html_status, 'html.parser')"
      ],
      "metadata": {
        "id": "uRCJ_pntiRPW"
      },
      "execution_count": 5,
      "outputs": []
    },
    {
      "cell_type": "code",
      "source": [
        "soup"
      ],
      "metadata": {
        "colab": {
          "base_uri": "https://localhost:8080/"
        },
        "id": "W8uz3IA2nRET",
        "outputId": "c27ea3ad-7c27-4be5-84b8-6a42091ab8d2"
      },
      "execution_count": 6,
      "outputs": [
        {
          "output_type": "execute_result",
          "data": {
            "text/plain": [
              "<div class=\"stats-content\" id=\"all-content\">\n",
              "<table class=\"table totalstats\">\n",
              "<tbody><tr class=\"header-row\">\n",
              "<td class=\"players\">\n",
              "<div class=\"align-logo\"><img alt=\"Vitality\" class=\"logo\" height=\"25px\" src=\"https://img-cdn.hltv.org/teamlogo/GAlByJtDTnkgbb9p_71SUL.png?ixlib=java-2.1.0&amp;w=50&amp;s=2838cd78a5ebb5c9fea4c485908e9dbb\" title=\"Vitality\" width=\"25px\"/><a class=\"teamName team\" href=\"/team/9565/vitality\">Vitality</a></div>\n",
              "</td>\n",
              "<td class=\"kd text-center\">K-D</td>\n",
              "<td class=\"plus-minus text-center gtSmartphone-only\">+/-</td>\n",
              "<td class=\"adr text-center\">ADR</td>\n",
              "<td class=\"kast text-center\" title=\"Percentage of rounds in which the player either had a kill, assist, survived or was traded\">KAST</td>\n",
              "<td class=\"rating text-center\">Rating<span class=\"ratingDesc\">2.0</span></td>\n",
              "</tr>\n",
              "<tr class=\"\">\n",
              "<td class=\"players\">\n",
              "<div class=\"flagAlign\"><a class=\"flagAlign no-maps-indicator-offset\" href=\"/player/11893/zywoo\"><img alt=\"France\" class=\"flag flag\" src=\"/img/static/flags/30x20/FR.gif\" title=\"France\"/>\n",
              "<div class=\"gtSmartphone-only statsPlayerName\">Mathieu '<span class=\"player-nick\">ZywOo</span>' Herbaut</div>\n",
              "<div class=\"smartphone-only statsPlayerName\">ZywOo</div>\n",
              "</a></div>\n",
              "</td>\n",
              "<td class=\"kd text-center\">27-13</td>\n",
              "<td class=\"plus-minus text-center gtSmartphone-only\"><span class=\"won\">+14</span></td>\n",
              "<td class=\"adr text-center \">99.6</td>\n",
              "<td class=\"kast text-center\">88.9%</td>\n",
              "<td class=\"rating text-center\">1.68</td>\n",
              "</tr>\n",
              "<tr class=\"\">\n",
              "<td class=\"players\">\n",
              "<div class=\"flagAlign\"><a class=\"flagAlign no-maps-indicator-offset\" href=\"/player/18221/spinx\"><img alt=\"Israel\" class=\"flag flag\" src=\"/img/static/flags/30x20/IL.gif\" title=\"Israel\"/>\n",
              "<div class=\"gtSmartphone-only statsPlayerName\">Lotan '<span class=\"player-nick\">Spinx</span>' Giladi</div>\n",
              "<div class=\"smartphone-only statsPlayerName\">Spinx</div>\n",
              "</a></div>\n",
              "</td>\n",
              "<td class=\"kd text-center\">22-11</td>\n",
              "<td class=\"plus-minus text-center gtSmartphone-only\"><span class=\"won\">+11</span></td>\n",
              "<td class=\"adr text-center \">80.6</td>\n",
              "<td class=\"kast text-center\">81.5%</td>\n",
              "<td class=\"rating text-center\">1.39</td>\n",
              "</tr>\n",
              "<tr class=\"\">\n",
              "<td class=\"players\">\n",
              "<div class=\"flagAlign\"><a class=\"flagAlign no-maps-indicator-offset\" href=\"/player/9032/magisk\"><img alt=\"Denmark\" class=\"flag flag\" src=\"/img/static/flags/30x20/DK.gif\" title=\"Denmark\"/>\n",
              "<div class=\"gtSmartphone-only statsPlayerName\">Emil '<span class=\"player-nick\">Magisk</span>' Reif</div>\n",
              "<div class=\"smartphone-only statsPlayerName\">Magisk</div>\n",
              "</a></div>\n",
              "</td>\n",
              "<td class=\"kd text-center\">16-13</td>\n",
              "<td class=\"plus-minus text-center gtSmartphone-only\"><span class=\"won\">+3</span></td>\n",
              "<td class=\"adr text-center \">73.0</td>\n",
              "<td class=\"kast text-center\">81.5%</td>\n",
              "<td class=\"rating text-center\">1.16</td>\n",
              "</tr>\n",
              "<tr class=\"\">\n",
              "<td class=\"players\">\n",
              "<div class=\"flagAlign\"><a class=\"flagAlign no-maps-indicator-offset\" href=\"/player/7398/dupreeh\"><img alt=\"Denmark\" class=\"flag flag\" src=\"/img/static/flags/30x20/DK.gif\" title=\"Denmark\"/>\n",
              "<div class=\"gtSmartphone-only statsPlayerName\">Peter '<span class=\"player-nick\">dupreeh</span>' Rasmussen</div>\n",
              "<div class=\"smartphone-only statsPlayerName\">dupreeh</div>\n",
              "</a></div>\n",
              "</td>\n",
              "<td class=\"kd text-center\">17-15</td>\n",
              "<td class=\"plus-minus text-center gtSmartphone-only\"><span class=\"won\">+2</span></td>\n",
              "<td class=\"adr text-center \">64.0</td>\n",
              "<td class=\"kast text-center\">81.5%</td>\n",
              "<td class=\"rating text-center\">1.04</td>\n",
              "</tr>\n",
              "<tr class=\"\">\n",
              "<td class=\"players\">\n",
              "<div class=\"flagAlign\"><a class=\"flagAlign no-maps-indicator-offset\" href=\"/player/7322/apex\"><img alt=\"France\" class=\"flag flag\" src=\"/img/static/flags/30x20/FR.gif\" title=\"France\"/>\n",
              "<div class=\"gtSmartphone-only statsPlayerName\">Dan '<span class=\"player-nick\">apEX</span>' Madesclaire</div>\n",
              "<div class=\"smartphone-only statsPlayerName\">apEX</div>\n",
              "</a></div>\n",
              "</td>\n",
              "<td class=\"kd text-center\">8-22</td>\n",
              "<td class=\"plus-minus text-center gtSmartphone-only\"><span class=\"lost\">-14</span></td>\n",
              "<td class=\"adr text-center \">55.4</td>\n",
              "<td class=\"kast text-center\">74.1%</td>\n",
              "<td class=\"rating text-center\">0.72</td>\n",
              "</tr>\n",
              "</tbody></table>\n",
              "</div>"
            ]
          },
          "metadata": {},
          "execution_count": 6
        }
      ]
    },
    {
      "cell_type": "code",
      "source": [
        "nick_name = soup.find_all(\"div\", {\"class\": \"smartphone-only statsPlayerName\"})\n",
        "nick_name"
      ],
      "metadata": {
        "colab": {
          "base_uri": "https://localhost:8080/"
        },
        "id": "bmuVLcZonR4p",
        "outputId": "f4225e1e-946b-496b-aeab-34d4243bee6f"
      },
      "execution_count": 7,
      "outputs": [
        {
          "output_type": "execute_result",
          "data": {
            "text/plain": [
              "[<div class=\"smartphone-only statsPlayerName\">ZywOo</div>,\n",
              " <div class=\"smartphone-only statsPlayerName\">Spinx</div>,\n",
              " <div class=\"smartphone-only statsPlayerName\">Magisk</div>,\n",
              " <div class=\"smartphone-only statsPlayerName\">dupreeh</div>,\n",
              " <div class=\"smartphone-only statsPlayerName\">apEX</div>]"
            ]
          },
          "metadata": {},
          "execution_count": 7
        }
      ]
    },
    {
      "cell_type": "code",
      "source": [
        "dados_name = []\n",
        "\n",
        "for i in range(len(nick_name)):\n",
        "  name = nick_name[i].text\n",
        "  print(name)\n",
        "  dados_name.append(name)\n",
        "dados_name"
      ],
      "metadata": {
        "colab": {
          "base_uri": "https://localhost:8080/"
        },
        "id": "mkUOXmXM3pe4",
        "outputId": "b4181986-820a-4f3b-a119-26e857dedcc2"
      },
      "execution_count": 8,
      "outputs": [
        {
          "output_type": "stream",
          "name": "stdout",
          "text": [
            "ZywOo\n",
            "Spinx\n",
            "Magisk\n",
            "dupreeh\n",
            "apEX\n"
          ]
        },
        {
          "output_type": "execute_result",
          "data": {
            "text/plain": [
              "['ZywOo', 'Spinx', 'Magisk', 'dupreeh', 'apEX']"
            ]
          },
          "metadata": {},
          "execution_count": 8
        }
      ]
    },
    {
      "cell_type": "code",
      "source": [
        "KD = soup.find_all(\"td\", {\"class\": \"kd text-center\"})\n",
        "KD"
      ],
      "metadata": {
        "colab": {
          "base_uri": "https://localhost:8080/"
        },
        "id": "EYLWMcgooI9s",
        "outputId": "6561fe56-bdf9-4680-e9ec-f41c9ba1c0e2"
      },
      "execution_count": 9,
      "outputs": [
        {
          "output_type": "execute_result",
          "data": {
            "text/plain": [
              "[<td class=\"kd text-center\">K-D</td>,\n",
              " <td class=\"kd text-center\">27-13</td>,\n",
              " <td class=\"kd text-center\">22-11</td>,\n",
              " <td class=\"kd text-center\">16-13</td>,\n",
              " <td class=\"kd text-center\">17-15</td>,\n",
              " <td class=\"kd text-center\">8-22</td>]"
            ]
          },
          "metadata": {},
          "execution_count": 9
        }
      ]
    },
    {
      "cell_type": "code",
      "source": [
        "dados_KD = []\n",
        "\n",
        "for i in range(len(KD)):\n",
        "  K_D = KD[i].text\n",
        "  print(K_D)\n",
        "  dados_KD.append(K_D)\n",
        "dados_KD"
      ],
      "metadata": {
        "colab": {
          "base_uri": "https://localhost:8080/"
        },
        "id": "kvMDaSAUweit",
        "outputId": "28adaa64-5a58-4a77-b16d-506bc6869ec7"
      },
      "execution_count": 10,
      "outputs": [
        {
          "output_type": "stream",
          "name": "stdout",
          "text": [
            "K-D\n",
            "27-13\n",
            "22-11\n",
            "16-13\n",
            "17-15\n",
            "8-22\n"
          ]
        },
        {
          "output_type": "execute_result",
          "data": {
            "text/plain": [
              "['K-D', '27-13', '22-11', '16-13', '17-15', '8-22']"
            ]
          },
          "metadata": {},
          "execution_count": 10
        }
      ]
    },
    {
      "cell_type": "code",
      "source": [
        "kill = soup.find_all(\"td\", {\"class\": \"plus-minus text-center gtSmartphone-only\"})\n",
        "kill"
      ],
      "metadata": {
        "colab": {
          "base_uri": "https://localhost:8080/"
        },
        "id": "5PmIDWbNols7",
        "outputId": "e71de556-4abb-43a4-ed67-6d3f80ef6284"
      },
      "execution_count": 11,
      "outputs": [
        {
          "output_type": "execute_result",
          "data": {
            "text/plain": [
              "[<td class=\"plus-minus text-center gtSmartphone-only\">+/-</td>,\n",
              " <td class=\"plus-minus text-center gtSmartphone-only\"><span class=\"won\">+14</span></td>,\n",
              " <td class=\"plus-minus text-center gtSmartphone-only\"><span class=\"won\">+11</span></td>,\n",
              " <td class=\"plus-minus text-center gtSmartphone-only\"><span class=\"won\">+3</span></td>,\n",
              " <td class=\"plus-minus text-center gtSmartphone-only\"><span class=\"won\">+2</span></td>,\n",
              " <td class=\"plus-minus text-center gtSmartphone-only\"><span class=\"lost\">-14</span></td>]"
            ]
          },
          "metadata": {},
          "execution_count": 11
        }
      ]
    },
    {
      "cell_type": "code",
      "source": [
        "kill[1].contents[0].text"
      ],
      "metadata": {
        "colab": {
          "base_uri": "https://localhost:8080/",
          "height": 35
        },
        "id": "A-E6o0hOpWO4",
        "outputId": "4491ad18-7628-4354-e66c-b2947d439ebb"
      },
      "execution_count": 12,
      "outputs": [
        {
          "output_type": "execute_result",
          "data": {
            "text/plain": [
              "'+14'"
            ],
            "application/vnd.google.colaboratory.intrinsic+json": {
              "type": "string"
            }
          },
          "metadata": {},
          "execution_count": 12
        }
      ]
    },
    {
      "cell_type": "code",
      "source": [
        "dados_saldo = []\n",
        "\n",
        "for i in range(len(KD)):\n",
        "  saldo = kill[i].text\n",
        "  print(saldo)\n",
        "  dados_saldo.append(saldo)\n",
        "dados_saldo"
      ],
      "metadata": {
        "colab": {
          "base_uri": "https://localhost:8080/"
        },
        "id": "hoeSWM_wtPtd",
        "outputId": "e772ab41-f7f6-4fef-c5f1-fbcbe0dd7612"
      },
      "execution_count": 13,
      "outputs": [
        {
          "output_type": "stream",
          "name": "stdout",
          "text": [
            "+/-\n",
            "+14\n",
            "+11\n",
            "+3\n",
            "+2\n",
            "-14\n"
          ]
        },
        {
          "output_type": "execute_result",
          "data": {
            "text/plain": [
              "['+/-', '+14', '+11', '+3', '+2', '-14']"
            ]
          },
          "metadata": {},
          "execution_count": 13
        }
      ]
    },
    {
      "cell_type": "code",
      "source": [
        "adr = soup.find_all(\"td\", {\"class\": \"adr text-center \"})\n",
        "adr"
      ],
      "metadata": {
        "colab": {
          "base_uri": "https://localhost:8080/"
        },
        "id": "GGInVaYhxVDV",
        "outputId": "75ef8bb3-da61-412a-a889-ef2d7fd4a023"
      },
      "execution_count": 14,
      "outputs": [
        {
          "output_type": "execute_result",
          "data": {
            "text/plain": [
              "[<td class=\"adr text-center \">99.6</td>,\n",
              " <td class=\"adr text-center \">80.6</td>,\n",
              " <td class=\"adr text-center \">73.0</td>,\n",
              " <td class=\"adr text-center \">64.0</td>,\n",
              " <td class=\"adr text-center \">55.4</td>]"
            ]
          },
          "metadata": {},
          "execution_count": 14
        }
      ]
    },
    {
      "cell_type": "code",
      "source": [
        "dados_adr = []\n",
        "\n",
        "for i in range(len(adr)):\n",
        "  adr_ = adr[i].text\n",
        "  print(adr_)\n",
        "  dados_adr.append(adr_)\n",
        "dados_adr"
      ],
      "metadata": {
        "colab": {
          "base_uri": "https://localhost:8080/"
        },
        "id": "mGXLrOw7xlZ1",
        "outputId": "4480c9e6-75a3-405b-d7ae-b47e3fc42b9b"
      },
      "execution_count": 15,
      "outputs": [
        {
          "output_type": "stream",
          "name": "stdout",
          "text": [
            "99.6\n",
            "80.6\n",
            "73.0\n",
            "64.0\n",
            "55.4\n"
          ]
        },
        {
          "output_type": "execute_result",
          "data": {
            "text/plain": [
              "['99.6', '80.6', '73.0', '64.0', '55.4']"
            ]
          },
          "metadata": {},
          "execution_count": 15
        }
      ]
    },
    {
      "cell_type": "code",
      "source": [
        "kast = soup.find_all(\"td\", {\"class\": \"kast text-center\"})\n",
        "kast"
      ],
      "metadata": {
        "colab": {
          "base_uri": "https://localhost:8080/"
        },
        "id": "kGCAZTLcxwed",
        "outputId": "4c58228c-5dd4-4060-b9f5-cefa039e0991"
      },
      "execution_count": 16,
      "outputs": [
        {
          "output_type": "execute_result",
          "data": {
            "text/plain": [
              "[<td class=\"kast text-center\" title=\"Percentage of rounds in which the player either had a kill, assist, survived or was traded\">KAST</td>,\n",
              " <td class=\"kast text-center\">88.9%</td>,\n",
              " <td class=\"kast text-center\">81.5%</td>,\n",
              " <td class=\"kast text-center\">81.5%</td>,\n",
              " <td class=\"kast text-center\">81.5%</td>,\n",
              " <td class=\"kast text-center\">74.1%</td>]"
            ]
          },
          "metadata": {},
          "execution_count": 16
        }
      ]
    },
    {
      "cell_type": "code",
      "source": [
        "dados_kast = []\n",
        "\n",
        "for i in range(len(kast)):\n",
        "  kast_= kast[i].text\n",
        "  print(kast_)\n",
        "  dados_kast.append(kast_)\n",
        "dados_kast"
      ],
      "metadata": {
        "colab": {
          "base_uri": "https://localhost:8080/"
        },
        "id": "ELtZ3aAyx_QV",
        "outputId": "9cd43282-1d36-4f1c-9ade-9932a6f23f0d"
      },
      "execution_count": 17,
      "outputs": [
        {
          "output_type": "stream",
          "name": "stdout",
          "text": [
            "KAST\n",
            "88.9%\n",
            "81.5%\n",
            "81.5%\n",
            "81.5%\n",
            "74.1%\n"
          ]
        },
        {
          "output_type": "execute_result",
          "data": {
            "text/plain": [
              "['KAST', '88.9%', '81.5%', '81.5%', '81.5%', '74.1%']"
            ]
          },
          "metadata": {},
          "execution_count": 17
        }
      ]
    },
    {
      "cell_type": "code",
      "source": [
        "rating = soup.find_all(\"td\", {\"class\": \"rating text-center\"})\n",
        "rating"
      ],
      "metadata": {
        "colab": {
          "base_uri": "https://localhost:8080/"
        },
        "id": "cS3GjH60yKz0",
        "outputId": "756c45ef-f1ee-4dc0-f4ae-169221fe56fd"
      },
      "execution_count": 18,
      "outputs": [
        {
          "output_type": "execute_result",
          "data": {
            "text/plain": [
              "[<td class=\"rating text-center\">Rating<span class=\"ratingDesc\">2.0</span></td>,\n",
              " <td class=\"rating text-center\">1.68</td>,\n",
              " <td class=\"rating text-center\">1.39</td>,\n",
              " <td class=\"rating text-center\">1.16</td>,\n",
              " <td class=\"rating text-center\">1.04</td>,\n",
              " <td class=\"rating text-center\">0.72</td>]"
            ]
          },
          "metadata": {},
          "execution_count": 18
        }
      ]
    },
    {
      "cell_type": "code",
      "source": [
        "dados_rating = []\n",
        "\n",
        "for i in range(len(rating)):\n",
        "  rating_ = rating[i].text\n",
        "  print(rating_)\n",
        "  dados_rating.append(rating_)\n",
        "dados_rating"
      ],
      "metadata": {
        "colab": {
          "base_uri": "https://localhost:8080/"
        },
        "id": "ffeYpa3FynRF",
        "outputId": "e01295b5-e7fb-4c9f-f33e-b83d31d770a0"
      },
      "execution_count": 19,
      "outputs": [
        {
          "output_type": "stream",
          "name": "stdout",
          "text": [
            "Rating2.0\n",
            "1.68\n",
            "1.39\n",
            "1.16\n",
            "1.04\n",
            "0.72\n"
          ]
        },
        {
          "output_type": "execute_result",
          "data": {
            "text/plain": [
              "['Rating2.0', '1.68', '1.39', '1.16', '1.04', '0.72']"
            ]
          },
          "metadata": {},
          "execution_count": 19
        }
      ]
    },
    {
      "cell_type": "code",
      "source": [
        "dados_name_df = pd.DataFrame(dados_name, columns=['dados_name'])\n",
        "dados_name_df"
      ],
      "metadata": {
        "colab": {
          "base_uri": "https://localhost:8080/",
          "height": 206
        },
        "id": "KZc4Gaue7c6P",
        "outputId": "da7d3c20-fcf5-402a-ee5a-7027bed2e68c"
      },
      "execution_count": 20,
      "outputs": [
        {
          "output_type": "execute_result",
          "data": {
            "text/plain": [
              "  dados_name\n",
              "0      ZywOo\n",
              "1      Spinx\n",
              "2     Magisk\n",
              "3    dupreeh\n",
              "4       apEX"
            ],
            "text/html": [
              "\n",
              "  <div id=\"df-d47f5b68-38b9-4a9e-8dfb-284eafa10e92\">\n",
              "    <div class=\"colab-df-container\">\n",
              "      <div>\n",
              "<style scoped>\n",
              "    .dataframe tbody tr th:only-of-type {\n",
              "        vertical-align: middle;\n",
              "    }\n",
              "\n",
              "    .dataframe tbody tr th {\n",
              "        vertical-align: top;\n",
              "    }\n",
              "\n",
              "    .dataframe thead th {\n",
              "        text-align: right;\n",
              "    }\n",
              "</style>\n",
              "<table border=\"1\" class=\"dataframe\">\n",
              "  <thead>\n",
              "    <tr style=\"text-align: right;\">\n",
              "      <th></th>\n",
              "      <th>dados_name</th>\n",
              "    </tr>\n",
              "  </thead>\n",
              "  <tbody>\n",
              "    <tr>\n",
              "      <th>0</th>\n",
              "      <td>ZywOo</td>\n",
              "    </tr>\n",
              "    <tr>\n",
              "      <th>1</th>\n",
              "      <td>Spinx</td>\n",
              "    </tr>\n",
              "    <tr>\n",
              "      <th>2</th>\n",
              "      <td>Magisk</td>\n",
              "    </tr>\n",
              "    <tr>\n",
              "      <th>3</th>\n",
              "      <td>dupreeh</td>\n",
              "    </tr>\n",
              "    <tr>\n",
              "      <th>4</th>\n",
              "      <td>apEX</td>\n",
              "    </tr>\n",
              "  </tbody>\n",
              "</table>\n",
              "</div>\n",
              "      <button class=\"colab-df-convert\" onclick=\"convertToInteractive('df-d47f5b68-38b9-4a9e-8dfb-284eafa10e92')\"\n",
              "              title=\"Convert this dataframe to an interactive table.\"\n",
              "              style=\"display:none;\">\n",
              "        \n",
              "  <svg xmlns=\"http://www.w3.org/2000/svg\" height=\"24px\"viewBox=\"0 0 24 24\"\n",
              "       width=\"24px\">\n",
              "    <path d=\"M0 0h24v24H0V0z\" fill=\"none\"/>\n",
              "    <path d=\"M18.56 5.44l.94 2.06.94-2.06 2.06-.94-2.06-.94-.94-2.06-.94 2.06-2.06.94zm-11 1L8.5 8.5l.94-2.06 2.06-.94-2.06-.94L8.5 2.5l-.94 2.06-2.06.94zm10 10l.94 2.06.94-2.06 2.06-.94-2.06-.94-.94-2.06-.94 2.06-2.06.94z\"/><path d=\"M17.41 7.96l-1.37-1.37c-.4-.4-.92-.59-1.43-.59-.52 0-1.04.2-1.43.59L10.3 9.45l-7.72 7.72c-.78.78-.78 2.05 0 2.83L4 21.41c.39.39.9.59 1.41.59.51 0 1.02-.2 1.41-.59l7.78-7.78 2.81-2.81c.8-.78.8-2.07 0-2.86zM5.41 20L4 18.59l7.72-7.72 1.47 1.35L5.41 20z\"/>\n",
              "  </svg>\n",
              "      </button>\n",
              "      \n",
              "  <style>\n",
              "    .colab-df-container {\n",
              "      display:flex;\n",
              "      flex-wrap:wrap;\n",
              "      gap: 12px;\n",
              "    }\n",
              "\n",
              "    .colab-df-convert {\n",
              "      background-color: #E8F0FE;\n",
              "      border: none;\n",
              "      border-radius: 50%;\n",
              "      cursor: pointer;\n",
              "      display: none;\n",
              "      fill: #1967D2;\n",
              "      height: 32px;\n",
              "      padding: 0 0 0 0;\n",
              "      width: 32px;\n",
              "    }\n",
              "\n",
              "    .colab-df-convert:hover {\n",
              "      background-color: #E2EBFA;\n",
              "      box-shadow: 0px 1px 2px rgba(60, 64, 67, 0.3), 0px 1px 3px 1px rgba(60, 64, 67, 0.15);\n",
              "      fill: #174EA6;\n",
              "    }\n",
              "\n",
              "    [theme=dark] .colab-df-convert {\n",
              "      background-color: #3B4455;\n",
              "      fill: #D2E3FC;\n",
              "    }\n",
              "\n",
              "    [theme=dark] .colab-df-convert:hover {\n",
              "      background-color: #434B5C;\n",
              "      box-shadow: 0px 1px 3px 1px rgba(0, 0, 0, 0.15);\n",
              "      filter: drop-shadow(0px 1px 2px rgba(0, 0, 0, 0.3));\n",
              "      fill: #FFFFFF;\n",
              "    }\n",
              "  </style>\n",
              "\n",
              "      <script>\n",
              "        const buttonEl =\n",
              "          document.querySelector('#df-d47f5b68-38b9-4a9e-8dfb-284eafa10e92 button.colab-df-convert');\n",
              "        buttonEl.style.display =\n",
              "          google.colab.kernel.accessAllowed ? 'block' : 'none';\n",
              "\n",
              "        async function convertToInteractive(key) {\n",
              "          const element = document.querySelector('#df-d47f5b68-38b9-4a9e-8dfb-284eafa10e92');\n",
              "          const dataTable =\n",
              "            await google.colab.kernel.invokeFunction('convertToInteractive',\n",
              "                                                     [key], {});\n",
              "          if (!dataTable) return;\n",
              "\n",
              "          const docLinkHtml = 'Like what you see? Visit the ' +\n",
              "            '<a target=\"_blank\" href=https://colab.research.google.com/notebooks/data_table.ipynb>data table notebook</a>'\n",
              "            + ' to learn more about interactive tables.';\n",
              "          element.innerHTML = '';\n",
              "          dataTable['output_type'] = 'display_data';\n",
              "          await google.colab.output.renderOutput(dataTable, element);\n",
              "          const docLink = document.createElement('div');\n",
              "          docLink.innerHTML = docLinkHtml;\n",
              "          element.appendChild(docLink);\n",
              "        }\n",
              "      </script>\n",
              "    </div>\n",
              "  </div>\n",
              "  "
            ]
          },
          "metadata": {},
          "execution_count": 20
        }
      ]
    },
    {
      "cell_type": "code",
      "source": [
        "dados_saldo_df = pd.DataFrame(dados_saldo, columns=['dados_saldo'])\n",
        "dados_saldo_df = dados_saldo_df.drop(0).reset_index().drop('index', axis=1)\n",
        "dados_saldo_df"
      ],
      "metadata": {
        "colab": {
          "base_uri": "https://localhost:8080/",
          "height": 206
        },
        "id": "YZNO-TuS7lRX",
        "outputId": "0a070f50-da31-4c32-bbbd-8088f92e2ffa"
      },
      "execution_count": 32,
      "outputs": [
        {
          "output_type": "execute_result",
          "data": {
            "text/plain": [
              "  dados_saldo\n",
              "0         +14\n",
              "1         +11\n",
              "2          +3\n",
              "3          +2\n",
              "4         -14"
            ],
            "text/html": [
              "\n",
              "  <div id=\"df-41b34b5a-38f7-4027-81e3-1d75a83a8880\">\n",
              "    <div class=\"colab-df-container\">\n",
              "      <div>\n",
              "<style scoped>\n",
              "    .dataframe tbody tr th:only-of-type {\n",
              "        vertical-align: middle;\n",
              "    }\n",
              "\n",
              "    .dataframe tbody tr th {\n",
              "        vertical-align: top;\n",
              "    }\n",
              "\n",
              "    .dataframe thead th {\n",
              "        text-align: right;\n",
              "    }\n",
              "</style>\n",
              "<table border=\"1\" class=\"dataframe\">\n",
              "  <thead>\n",
              "    <tr style=\"text-align: right;\">\n",
              "      <th></th>\n",
              "      <th>dados_saldo</th>\n",
              "    </tr>\n",
              "  </thead>\n",
              "  <tbody>\n",
              "    <tr>\n",
              "      <th>0</th>\n",
              "      <td>+14</td>\n",
              "    </tr>\n",
              "    <tr>\n",
              "      <th>1</th>\n",
              "      <td>+11</td>\n",
              "    </tr>\n",
              "    <tr>\n",
              "      <th>2</th>\n",
              "      <td>+3</td>\n",
              "    </tr>\n",
              "    <tr>\n",
              "      <th>3</th>\n",
              "      <td>+2</td>\n",
              "    </tr>\n",
              "    <tr>\n",
              "      <th>4</th>\n",
              "      <td>-14</td>\n",
              "    </tr>\n",
              "  </tbody>\n",
              "</table>\n",
              "</div>\n",
              "      <button class=\"colab-df-convert\" onclick=\"convertToInteractive('df-41b34b5a-38f7-4027-81e3-1d75a83a8880')\"\n",
              "              title=\"Convert this dataframe to an interactive table.\"\n",
              "              style=\"display:none;\">\n",
              "        \n",
              "  <svg xmlns=\"http://www.w3.org/2000/svg\" height=\"24px\"viewBox=\"0 0 24 24\"\n",
              "       width=\"24px\">\n",
              "    <path d=\"M0 0h24v24H0V0z\" fill=\"none\"/>\n",
              "    <path d=\"M18.56 5.44l.94 2.06.94-2.06 2.06-.94-2.06-.94-.94-2.06-.94 2.06-2.06.94zm-11 1L8.5 8.5l.94-2.06 2.06-.94-2.06-.94L8.5 2.5l-.94 2.06-2.06.94zm10 10l.94 2.06.94-2.06 2.06-.94-2.06-.94-.94-2.06-.94 2.06-2.06.94z\"/><path d=\"M17.41 7.96l-1.37-1.37c-.4-.4-.92-.59-1.43-.59-.52 0-1.04.2-1.43.59L10.3 9.45l-7.72 7.72c-.78.78-.78 2.05 0 2.83L4 21.41c.39.39.9.59 1.41.59.51 0 1.02-.2 1.41-.59l7.78-7.78 2.81-2.81c.8-.78.8-2.07 0-2.86zM5.41 20L4 18.59l7.72-7.72 1.47 1.35L5.41 20z\"/>\n",
              "  </svg>\n",
              "      </button>\n",
              "      \n",
              "  <style>\n",
              "    .colab-df-container {\n",
              "      display:flex;\n",
              "      flex-wrap:wrap;\n",
              "      gap: 12px;\n",
              "    }\n",
              "\n",
              "    .colab-df-convert {\n",
              "      background-color: #E8F0FE;\n",
              "      border: none;\n",
              "      border-radius: 50%;\n",
              "      cursor: pointer;\n",
              "      display: none;\n",
              "      fill: #1967D2;\n",
              "      height: 32px;\n",
              "      padding: 0 0 0 0;\n",
              "      width: 32px;\n",
              "    }\n",
              "\n",
              "    .colab-df-convert:hover {\n",
              "      background-color: #E2EBFA;\n",
              "      box-shadow: 0px 1px 2px rgba(60, 64, 67, 0.3), 0px 1px 3px 1px rgba(60, 64, 67, 0.15);\n",
              "      fill: #174EA6;\n",
              "    }\n",
              "\n",
              "    [theme=dark] .colab-df-convert {\n",
              "      background-color: #3B4455;\n",
              "      fill: #D2E3FC;\n",
              "    }\n",
              "\n",
              "    [theme=dark] .colab-df-convert:hover {\n",
              "      background-color: #434B5C;\n",
              "      box-shadow: 0px 1px 3px 1px rgba(0, 0, 0, 0.15);\n",
              "      filter: drop-shadow(0px 1px 2px rgba(0, 0, 0, 0.3));\n",
              "      fill: #FFFFFF;\n",
              "    }\n",
              "  </style>\n",
              "\n",
              "      <script>\n",
              "        const buttonEl =\n",
              "          document.querySelector('#df-41b34b5a-38f7-4027-81e3-1d75a83a8880 button.colab-df-convert');\n",
              "        buttonEl.style.display =\n",
              "          google.colab.kernel.accessAllowed ? 'block' : 'none';\n",
              "\n",
              "        async function convertToInteractive(key) {\n",
              "          const element = document.querySelector('#df-41b34b5a-38f7-4027-81e3-1d75a83a8880');\n",
              "          const dataTable =\n",
              "            await google.colab.kernel.invokeFunction('convertToInteractive',\n",
              "                                                     [key], {});\n",
              "          if (!dataTable) return;\n",
              "\n",
              "          const docLinkHtml = 'Like what you see? Visit the ' +\n",
              "            '<a target=\"_blank\" href=https://colab.research.google.com/notebooks/data_table.ipynb>data table notebook</a>'\n",
              "            + ' to learn more about interactive tables.';\n",
              "          element.innerHTML = '';\n",
              "          dataTable['output_type'] = 'display_data';\n",
              "          await google.colab.output.renderOutput(dataTable, element);\n",
              "          const docLink = document.createElement('div');\n",
              "          docLink.innerHTML = docLinkHtml;\n",
              "          element.appendChild(docLink);\n",
              "        }\n",
              "      </script>\n",
              "    </div>\n",
              "  </div>\n",
              "  "
            ]
          },
          "metadata": {},
          "execution_count": 32
        }
      ]
    },
    {
      "cell_type": "code",
      "source": [
        "dados_adr_df = pd.DataFrame(dados_adr, columns=['dados_adr'])\n",
        "dados_adr_df"
      ],
      "metadata": {
        "colab": {
          "base_uri": "https://localhost:8080/",
          "height": 206
        },
        "id": "3TPeGaVS76xy",
        "outputId": "42797283-7eff-4016-c602-f74b8a23cbad"
      },
      "execution_count": 22,
      "outputs": [
        {
          "output_type": "execute_result",
          "data": {
            "text/plain": [
              "  dados_adr\n",
              "0      99.6\n",
              "1      80.6\n",
              "2      73.0\n",
              "3      64.0\n",
              "4      55.4"
            ],
            "text/html": [
              "\n",
              "  <div id=\"df-922a76b4-da0b-477d-bb79-fe3765a2eeab\">\n",
              "    <div class=\"colab-df-container\">\n",
              "      <div>\n",
              "<style scoped>\n",
              "    .dataframe tbody tr th:only-of-type {\n",
              "        vertical-align: middle;\n",
              "    }\n",
              "\n",
              "    .dataframe tbody tr th {\n",
              "        vertical-align: top;\n",
              "    }\n",
              "\n",
              "    .dataframe thead th {\n",
              "        text-align: right;\n",
              "    }\n",
              "</style>\n",
              "<table border=\"1\" class=\"dataframe\">\n",
              "  <thead>\n",
              "    <tr style=\"text-align: right;\">\n",
              "      <th></th>\n",
              "      <th>dados_adr</th>\n",
              "    </tr>\n",
              "  </thead>\n",
              "  <tbody>\n",
              "    <tr>\n",
              "      <th>0</th>\n",
              "      <td>99.6</td>\n",
              "    </tr>\n",
              "    <tr>\n",
              "      <th>1</th>\n",
              "      <td>80.6</td>\n",
              "    </tr>\n",
              "    <tr>\n",
              "      <th>2</th>\n",
              "      <td>73.0</td>\n",
              "    </tr>\n",
              "    <tr>\n",
              "      <th>3</th>\n",
              "      <td>64.0</td>\n",
              "    </tr>\n",
              "    <tr>\n",
              "      <th>4</th>\n",
              "      <td>55.4</td>\n",
              "    </tr>\n",
              "  </tbody>\n",
              "</table>\n",
              "</div>\n",
              "      <button class=\"colab-df-convert\" onclick=\"convertToInteractive('df-922a76b4-da0b-477d-bb79-fe3765a2eeab')\"\n",
              "              title=\"Convert this dataframe to an interactive table.\"\n",
              "              style=\"display:none;\">\n",
              "        \n",
              "  <svg xmlns=\"http://www.w3.org/2000/svg\" height=\"24px\"viewBox=\"0 0 24 24\"\n",
              "       width=\"24px\">\n",
              "    <path d=\"M0 0h24v24H0V0z\" fill=\"none\"/>\n",
              "    <path d=\"M18.56 5.44l.94 2.06.94-2.06 2.06-.94-2.06-.94-.94-2.06-.94 2.06-2.06.94zm-11 1L8.5 8.5l.94-2.06 2.06-.94-2.06-.94L8.5 2.5l-.94 2.06-2.06.94zm10 10l.94 2.06.94-2.06 2.06-.94-2.06-.94-.94-2.06-.94 2.06-2.06.94z\"/><path d=\"M17.41 7.96l-1.37-1.37c-.4-.4-.92-.59-1.43-.59-.52 0-1.04.2-1.43.59L10.3 9.45l-7.72 7.72c-.78.78-.78 2.05 0 2.83L4 21.41c.39.39.9.59 1.41.59.51 0 1.02-.2 1.41-.59l7.78-7.78 2.81-2.81c.8-.78.8-2.07 0-2.86zM5.41 20L4 18.59l7.72-7.72 1.47 1.35L5.41 20z\"/>\n",
              "  </svg>\n",
              "      </button>\n",
              "      \n",
              "  <style>\n",
              "    .colab-df-container {\n",
              "      display:flex;\n",
              "      flex-wrap:wrap;\n",
              "      gap: 12px;\n",
              "    }\n",
              "\n",
              "    .colab-df-convert {\n",
              "      background-color: #E8F0FE;\n",
              "      border: none;\n",
              "      border-radius: 50%;\n",
              "      cursor: pointer;\n",
              "      display: none;\n",
              "      fill: #1967D2;\n",
              "      height: 32px;\n",
              "      padding: 0 0 0 0;\n",
              "      width: 32px;\n",
              "    }\n",
              "\n",
              "    .colab-df-convert:hover {\n",
              "      background-color: #E2EBFA;\n",
              "      box-shadow: 0px 1px 2px rgba(60, 64, 67, 0.3), 0px 1px 3px 1px rgba(60, 64, 67, 0.15);\n",
              "      fill: #174EA6;\n",
              "    }\n",
              "\n",
              "    [theme=dark] .colab-df-convert {\n",
              "      background-color: #3B4455;\n",
              "      fill: #D2E3FC;\n",
              "    }\n",
              "\n",
              "    [theme=dark] .colab-df-convert:hover {\n",
              "      background-color: #434B5C;\n",
              "      box-shadow: 0px 1px 3px 1px rgba(0, 0, 0, 0.15);\n",
              "      filter: drop-shadow(0px 1px 2px rgba(0, 0, 0, 0.3));\n",
              "      fill: #FFFFFF;\n",
              "    }\n",
              "  </style>\n",
              "\n",
              "      <script>\n",
              "        const buttonEl =\n",
              "          document.querySelector('#df-922a76b4-da0b-477d-bb79-fe3765a2eeab button.colab-df-convert');\n",
              "        buttonEl.style.display =\n",
              "          google.colab.kernel.accessAllowed ? 'block' : 'none';\n",
              "\n",
              "        async function convertToInteractive(key) {\n",
              "          const element = document.querySelector('#df-922a76b4-da0b-477d-bb79-fe3765a2eeab');\n",
              "          const dataTable =\n",
              "            await google.colab.kernel.invokeFunction('convertToInteractive',\n",
              "                                                     [key], {});\n",
              "          if (!dataTable) return;\n",
              "\n",
              "          const docLinkHtml = 'Like what you see? Visit the ' +\n",
              "            '<a target=\"_blank\" href=https://colab.research.google.com/notebooks/data_table.ipynb>data table notebook</a>'\n",
              "            + ' to learn more about interactive tables.';\n",
              "          element.innerHTML = '';\n",
              "          dataTable['output_type'] = 'display_data';\n",
              "          await google.colab.output.renderOutput(dataTable, element);\n",
              "          const docLink = document.createElement('div');\n",
              "          docLink.innerHTML = docLinkHtml;\n",
              "          element.appendChild(docLink);\n",
              "        }\n",
              "      </script>\n",
              "    </div>\n",
              "  </div>\n",
              "  "
            ]
          },
          "metadata": {},
          "execution_count": 22
        }
      ]
    },
    {
      "cell_type": "code",
      "source": [
        "dados_kast_df = pd.DataFrame(dados_kast, columns=['dados_kast'])\n",
        "dados_kast_df = dados_kast_df.drop(0).reset_index().drop('index', axis=1)\n",
        "dados_kast_df"
      ],
      "metadata": {
        "colab": {
          "base_uri": "https://localhost:8080/",
          "height": 206
        },
        "id": "c3eZkh5g8LMG",
        "outputId": "425d9ff1-f599-438a-e128-8f85ff99f8a2"
      },
      "execution_count": 33,
      "outputs": [
        {
          "output_type": "execute_result",
          "data": {
            "text/plain": [
              "  dados_kast\n",
              "0      88.9%\n",
              "1      81.5%\n",
              "2      81.5%\n",
              "3      81.5%\n",
              "4      74.1%"
            ],
            "text/html": [
              "\n",
              "  <div id=\"df-414d6db8-316f-431b-a9e3-65c9fd9a03ba\">\n",
              "    <div class=\"colab-df-container\">\n",
              "      <div>\n",
              "<style scoped>\n",
              "    .dataframe tbody tr th:only-of-type {\n",
              "        vertical-align: middle;\n",
              "    }\n",
              "\n",
              "    .dataframe tbody tr th {\n",
              "        vertical-align: top;\n",
              "    }\n",
              "\n",
              "    .dataframe thead th {\n",
              "        text-align: right;\n",
              "    }\n",
              "</style>\n",
              "<table border=\"1\" class=\"dataframe\">\n",
              "  <thead>\n",
              "    <tr style=\"text-align: right;\">\n",
              "      <th></th>\n",
              "      <th>dados_kast</th>\n",
              "    </tr>\n",
              "  </thead>\n",
              "  <tbody>\n",
              "    <tr>\n",
              "      <th>0</th>\n",
              "      <td>88.9%</td>\n",
              "    </tr>\n",
              "    <tr>\n",
              "      <th>1</th>\n",
              "      <td>81.5%</td>\n",
              "    </tr>\n",
              "    <tr>\n",
              "      <th>2</th>\n",
              "      <td>81.5%</td>\n",
              "    </tr>\n",
              "    <tr>\n",
              "      <th>3</th>\n",
              "      <td>81.5%</td>\n",
              "    </tr>\n",
              "    <tr>\n",
              "      <th>4</th>\n",
              "      <td>74.1%</td>\n",
              "    </tr>\n",
              "  </tbody>\n",
              "</table>\n",
              "</div>\n",
              "      <button class=\"colab-df-convert\" onclick=\"convertToInteractive('df-414d6db8-316f-431b-a9e3-65c9fd9a03ba')\"\n",
              "              title=\"Convert this dataframe to an interactive table.\"\n",
              "              style=\"display:none;\">\n",
              "        \n",
              "  <svg xmlns=\"http://www.w3.org/2000/svg\" height=\"24px\"viewBox=\"0 0 24 24\"\n",
              "       width=\"24px\">\n",
              "    <path d=\"M0 0h24v24H0V0z\" fill=\"none\"/>\n",
              "    <path d=\"M18.56 5.44l.94 2.06.94-2.06 2.06-.94-2.06-.94-.94-2.06-.94 2.06-2.06.94zm-11 1L8.5 8.5l.94-2.06 2.06-.94-2.06-.94L8.5 2.5l-.94 2.06-2.06.94zm10 10l.94 2.06.94-2.06 2.06-.94-2.06-.94-.94-2.06-.94 2.06-2.06.94z\"/><path d=\"M17.41 7.96l-1.37-1.37c-.4-.4-.92-.59-1.43-.59-.52 0-1.04.2-1.43.59L10.3 9.45l-7.72 7.72c-.78.78-.78 2.05 0 2.83L4 21.41c.39.39.9.59 1.41.59.51 0 1.02-.2 1.41-.59l7.78-7.78 2.81-2.81c.8-.78.8-2.07 0-2.86zM5.41 20L4 18.59l7.72-7.72 1.47 1.35L5.41 20z\"/>\n",
              "  </svg>\n",
              "      </button>\n",
              "      \n",
              "  <style>\n",
              "    .colab-df-container {\n",
              "      display:flex;\n",
              "      flex-wrap:wrap;\n",
              "      gap: 12px;\n",
              "    }\n",
              "\n",
              "    .colab-df-convert {\n",
              "      background-color: #E8F0FE;\n",
              "      border: none;\n",
              "      border-radius: 50%;\n",
              "      cursor: pointer;\n",
              "      display: none;\n",
              "      fill: #1967D2;\n",
              "      height: 32px;\n",
              "      padding: 0 0 0 0;\n",
              "      width: 32px;\n",
              "    }\n",
              "\n",
              "    .colab-df-convert:hover {\n",
              "      background-color: #E2EBFA;\n",
              "      box-shadow: 0px 1px 2px rgba(60, 64, 67, 0.3), 0px 1px 3px 1px rgba(60, 64, 67, 0.15);\n",
              "      fill: #174EA6;\n",
              "    }\n",
              "\n",
              "    [theme=dark] .colab-df-convert {\n",
              "      background-color: #3B4455;\n",
              "      fill: #D2E3FC;\n",
              "    }\n",
              "\n",
              "    [theme=dark] .colab-df-convert:hover {\n",
              "      background-color: #434B5C;\n",
              "      box-shadow: 0px 1px 3px 1px rgba(0, 0, 0, 0.15);\n",
              "      filter: drop-shadow(0px 1px 2px rgba(0, 0, 0, 0.3));\n",
              "      fill: #FFFFFF;\n",
              "    }\n",
              "  </style>\n",
              "\n",
              "      <script>\n",
              "        const buttonEl =\n",
              "          document.querySelector('#df-414d6db8-316f-431b-a9e3-65c9fd9a03ba button.colab-df-convert');\n",
              "        buttonEl.style.display =\n",
              "          google.colab.kernel.accessAllowed ? 'block' : 'none';\n",
              "\n",
              "        async function convertToInteractive(key) {\n",
              "          const element = document.querySelector('#df-414d6db8-316f-431b-a9e3-65c9fd9a03ba');\n",
              "          const dataTable =\n",
              "            await google.colab.kernel.invokeFunction('convertToInteractive',\n",
              "                                                     [key], {});\n",
              "          if (!dataTable) return;\n",
              "\n",
              "          const docLinkHtml = 'Like what you see? Visit the ' +\n",
              "            '<a target=\"_blank\" href=https://colab.research.google.com/notebooks/data_table.ipynb>data table notebook</a>'\n",
              "            + ' to learn more about interactive tables.';\n",
              "          element.innerHTML = '';\n",
              "          dataTable['output_type'] = 'display_data';\n",
              "          await google.colab.output.renderOutput(dataTable, element);\n",
              "          const docLink = document.createElement('div');\n",
              "          docLink.innerHTML = docLinkHtml;\n",
              "          element.appendChild(docLink);\n",
              "        }\n",
              "      </script>\n",
              "    </div>\n",
              "  </div>\n",
              "  "
            ]
          },
          "metadata": {},
          "execution_count": 33
        }
      ]
    },
    {
      "cell_type": "code",
      "source": [
        "dados_rating_df = pd.DataFrame(dados_rating, columns=['dados_rating'])\n",
        "dados_rating_df = dados_rating_df.drop(0).reset_index().drop('index', axis=1)\n",
        "dados_rating_df"
      ],
      "metadata": {
        "colab": {
          "base_uri": "https://localhost:8080/",
          "height": 206
        },
        "id": "ClyNRxBF53Iu",
        "outputId": "a6fe5f4a-baab-49af-d9e7-27018fc9f18c"
      },
      "execution_count": 34,
      "outputs": [
        {
          "output_type": "execute_result",
          "data": {
            "text/plain": [
              "  dados_rating\n",
              "0         1.68\n",
              "1         1.39\n",
              "2         1.16\n",
              "3         1.04\n",
              "4         0.72"
            ],
            "text/html": [
              "\n",
              "  <div id=\"df-c17863f5-abe7-41aa-b58b-97daebbf8c2e\">\n",
              "    <div class=\"colab-df-container\">\n",
              "      <div>\n",
              "<style scoped>\n",
              "    .dataframe tbody tr th:only-of-type {\n",
              "        vertical-align: middle;\n",
              "    }\n",
              "\n",
              "    .dataframe tbody tr th {\n",
              "        vertical-align: top;\n",
              "    }\n",
              "\n",
              "    .dataframe thead th {\n",
              "        text-align: right;\n",
              "    }\n",
              "</style>\n",
              "<table border=\"1\" class=\"dataframe\">\n",
              "  <thead>\n",
              "    <tr style=\"text-align: right;\">\n",
              "      <th></th>\n",
              "      <th>dados_rating</th>\n",
              "    </tr>\n",
              "  </thead>\n",
              "  <tbody>\n",
              "    <tr>\n",
              "      <th>0</th>\n",
              "      <td>1.68</td>\n",
              "    </tr>\n",
              "    <tr>\n",
              "      <th>1</th>\n",
              "      <td>1.39</td>\n",
              "    </tr>\n",
              "    <tr>\n",
              "      <th>2</th>\n",
              "      <td>1.16</td>\n",
              "    </tr>\n",
              "    <tr>\n",
              "      <th>3</th>\n",
              "      <td>1.04</td>\n",
              "    </tr>\n",
              "    <tr>\n",
              "      <th>4</th>\n",
              "      <td>0.72</td>\n",
              "    </tr>\n",
              "  </tbody>\n",
              "</table>\n",
              "</div>\n",
              "      <button class=\"colab-df-convert\" onclick=\"convertToInteractive('df-c17863f5-abe7-41aa-b58b-97daebbf8c2e')\"\n",
              "              title=\"Convert this dataframe to an interactive table.\"\n",
              "              style=\"display:none;\">\n",
              "        \n",
              "  <svg xmlns=\"http://www.w3.org/2000/svg\" height=\"24px\"viewBox=\"0 0 24 24\"\n",
              "       width=\"24px\">\n",
              "    <path d=\"M0 0h24v24H0V0z\" fill=\"none\"/>\n",
              "    <path d=\"M18.56 5.44l.94 2.06.94-2.06 2.06-.94-2.06-.94-.94-2.06-.94 2.06-2.06.94zm-11 1L8.5 8.5l.94-2.06 2.06-.94-2.06-.94L8.5 2.5l-.94 2.06-2.06.94zm10 10l.94 2.06.94-2.06 2.06-.94-2.06-.94-.94-2.06-.94 2.06-2.06.94z\"/><path d=\"M17.41 7.96l-1.37-1.37c-.4-.4-.92-.59-1.43-.59-.52 0-1.04.2-1.43.59L10.3 9.45l-7.72 7.72c-.78.78-.78 2.05 0 2.83L4 21.41c.39.39.9.59 1.41.59.51 0 1.02-.2 1.41-.59l7.78-7.78 2.81-2.81c.8-.78.8-2.07 0-2.86zM5.41 20L4 18.59l7.72-7.72 1.47 1.35L5.41 20z\"/>\n",
              "  </svg>\n",
              "      </button>\n",
              "      \n",
              "  <style>\n",
              "    .colab-df-container {\n",
              "      display:flex;\n",
              "      flex-wrap:wrap;\n",
              "      gap: 12px;\n",
              "    }\n",
              "\n",
              "    .colab-df-convert {\n",
              "      background-color: #E8F0FE;\n",
              "      border: none;\n",
              "      border-radius: 50%;\n",
              "      cursor: pointer;\n",
              "      display: none;\n",
              "      fill: #1967D2;\n",
              "      height: 32px;\n",
              "      padding: 0 0 0 0;\n",
              "      width: 32px;\n",
              "    }\n",
              "\n",
              "    .colab-df-convert:hover {\n",
              "      background-color: #E2EBFA;\n",
              "      box-shadow: 0px 1px 2px rgba(60, 64, 67, 0.3), 0px 1px 3px 1px rgba(60, 64, 67, 0.15);\n",
              "      fill: #174EA6;\n",
              "    }\n",
              "\n",
              "    [theme=dark] .colab-df-convert {\n",
              "      background-color: #3B4455;\n",
              "      fill: #D2E3FC;\n",
              "    }\n",
              "\n",
              "    [theme=dark] .colab-df-convert:hover {\n",
              "      background-color: #434B5C;\n",
              "      box-shadow: 0px 1px 3px 1px rgba(0, 0, 0, 0.15);\n",
              "      filter: drop-shadow(0px 1px 2px rgba(0, 0, 0, 0.3));\n",
              "      fill: #FFFFFF;\n",
              "    }\n",
              "  </style>\n",
              "\n",
              "      <script>\n",
              "        const buttonEl =\n",
              "          document.querySelector('#df-c17863f5-abe7-41aa-b58b-97daebbf8c2e button.colab-df-convert');\n",
              "        buttonEl.style.display =\n",
              "          google.colab.kernel.accessAllowed ? 'block' : 'none';\n",
              "\n",
              "        async function convertToInteractive(key) {\n",
              "          const element = document.querySelector('#df-c17863f5-abe7-41aa-b58b-97daebbf8c2e');\n",
              "          const dataTable =\n",
              "            await google.colab.kernel.invokeFunction('convertToInteractive',\n",
              "                                                     [key], {});\n",
              "          if (!dataTable) return;\n",
              "\n",
              "          const docLinkHtml = 'Like what you see? Visit the ' +\n",
              "            '<a target=\"_blank\" href=https://colab.research.google.com/notebooks/data_table.ipynb>data table notebook</a>'\n",
              "            + ' to learn more about interactive tables.';\n",
              "          element.innerHTML = '';\n",
              "          dataTable['output_type'] = 'display_data';\n",
              "          await google.colab.output.renderOutput(dataTable, element);\n",
              "          const docLink = document.createElement('div');\n",
              "          docLink.innerHTML = docLinkHtml;\n",
              "          element.appendChild(docLink);\n",
              "        }\n",
              "      </script>\n",
              "    </div>\n",
              "  </div>\n",
              "  "
            ]
          },
          "metadata": {},
          "execution_count": 34
        }
      ]
    },
    {
      "cell_type": "code",
      "source": [
        "frames = [dados_name_df, dados_saldo_df, dados_adr_df, dados_kast_df, dados_rating_df]\n",
        "result = pd.concat(frames, axis = 1)\n",
        "display(result)"
      ],
      "metadata": {
        "colab": {
          "base_uri": "https://localhost:8080/",
          "height": 206
        },
        "id": "CDIbS3vX8VyG",
        "outputId": "2a9ed8ab-f086-41da-b40f-8022dc55bbdd"
      },
      "execution_count": 36,
      "outputs": [
        {
          "output_type": "display_data",
          "data": {
            "text/plain": [
              "  dados_name dados_saldo dados_adr dados_kast dados_rating\n",
              "0      ZywOo         +14      99.6      88.9%         1.68\n",
              "1      Spinx         +11      80.6      81.5%         1.39\n",
              "2     Magisk          +3      73.0      81.5%         1.16\n",
              "3    dupreeh          +2      64.0      81.5%         1.04\n",
              "4       apEX         -14      55.4      74.1%         0.72"
            ],
            "text/html": [
              "\n",
              "  <div id=\"df-babd50b4-5994-48a3-b0cb-515c4ca0ef10\">\n",
              "    <div class=\"colab-df-container\">\n",
              "      <div>\n",
              "<style scoped>\n",
              "    .dataframe tbody tr th:only-of-type {\n",
              "        vertical-align: middle;\n",
              "    }\n",
              "\n",
              "    .dataframe tbody tr th {\n",
              "        vertical-align: top;\n",
              "    }\n",
              "\n",
              "    .dataframe thead th {\n",
              "        text-align: right;\n",
              "    }\n",
              "</style>\n",
              "<table border=\"1\" class=\"dataframe\">\n",
              "  <thead>\n",
              "    <tr style=\"text-align: right;\">\n",
              "      <th></th>\n",
              "      <th>dados_name</th>\n",
              "      <th>dados_saldo</th>\n",
              "      <th>dados_adr</th>\n",
              "      <th>dados_kast</th>\n",
              "      <th>dados_rating</th>\n",
              "    </tr>\n",
              "  </thead>\n",
              "  <tbody>\n",
              "    <tr>\n",
              "      <th>0</th>\n",
              "      <td>ZywOo</td>\n",
              "      <td>+14</td>\n",
              "      <td>99.6</td>\n",
              "      <td>88.9%</td>\n",
              "      <td>1.68</td>\n",
              "    </tr>\n",
              "    <tr>\n",
              "      <th>1</th>\n",
              "      <td>Spinx</td>\n",
              "      <td>+11</td>\n",
              "      <td>80.6</td>\n",
              "      <td>81.5%</td>\n",
              "      <td>1.39</td>\n",
              "    </tr>\n",
              "    <tr>\n",
              "      <th>2</th>\n",
              "      <td>Magisk</td>\n",
              "      <td>+3</td>\n",
              "      <td>73.0</td>\n",
              "      <td>81.5%</td>\n",
              "      <td>1.16</td>\n",
              "    </tr>\n",
              "    <tr>\n",
              "      <th>3</th>\n",
              "      <td>dupreeh</td>\n",
              "      <td>+2</td>\n",
              "      <td>64.0</td>\n",
              "      <td>81.5%</td>\n",
              "      <td>1.04</td>\n",
              "    </tr>\n",
              "    <tr>\n",
              "      <th>4</th>\n",
              "      <td>apEX</td>\n",
              "      <td>-14</td>\n",
              "      <td>55.4</td>\n",
              "      <td>74.1%</td>\n",
              "      <td>0.72</td>\n",
              "    </tr>\n",
              "  </tbody>\n",
              "</table>\n",
              "</div>\n",
              "      <button class=\"colab-df-convert\" onclick=\"convertToInteractive('df-babd50b4-5994-48a3-b0cb-515c4ca0ef10')\"\n",
              "              title=\"Convert this dataframe to an interactive table.\"\n",
              "              style=\"display:none;\">\n",
              "        \n",
              "  <svg xmlns=\"http://www.w3.org/2000/svg\" height=\"24px\"viewBox=\"0 0 24 24\"\n",
              "       width=\"24px\">\n",
              "    <path d=\"M0 0h24v24H0V0z\" fill=\"none\"/>\n",
              "    <path d=\"M18.56 5.44l.94 2.06.94-2.06 2.06-.94-2.06-.94-.94-2.06-.94 2.06-2.06.94zm-11 1L8.5 8.5l.94-2.06 2.06-.94-2.06-.94L8.5 2.5l-.94 2.06-2.06.94zm10 10l.94 2.06.94-2.06 2.06-.94-2.06-.94-.94-2.06-.94 2.06-2.06.94z\"/><path d=\"M17.41 7.96l-1.37-1.37c-.4-.4-.92-.59-1.43-.59-.52 0-1.04.2-1.43.59L10.3 9.45l-7.72 7.72c-.78.78-.78 2.05 0 2.83L4 21.41c.39.39.9.59 1.41.59.51 0 1.02-.2 1.41-.59l7.78-7.78 2.81-2.81c.8-.78.8-2.07 0-2.86zM5.41 20L4 18.59l7.72-7.72 1.47 1.35L5.41 20z\"/>\n",
              "  </svg>\n",
              "      </button>\n",
              "      \n",
              "  <style>\n",
              "    .colab-df-container {\n",
              "      display:flex;\n",
              "      flex-wrap:wrap;\n",
              "      gap: 12px;\n",
              "    }\n",
              "\n",
              "    .colab-df-convert {\n",
              "      background-color: #E8F0FE;\n",
              "      border: none;\n",
              "      border-radius: 50%;\n",
              "      cursor: pointer;\n",
              "      display: none;\n",
              "      fill: #1967D2;\n",
              "      height: 32px;\n",
              "      padding: 0 0 0 0;\n",
              "      width: 32px;\n",
              "    }\n",
              "\n",
              "    .colab-df-convert:hover {\n",
              "      background-color: #E2EBFA;\n",
              "      box-shadow: 0px 1px 2px rgba(60, 64, 67, 0.3), 0px 1px 3px 1px rgba(60, 64, 67, 0.15);\n",
              "      fill: #174EA6;\n",
              "    }\n",
              "\n",
              "    [theme=dark] .colab-df-convert {\n",
              "      background-color: #3B4455;\n",
              "      fill: #D2E3FC;\n",
              "    }\n",
              "\n",
              "    [theme=dark] .colab-df-convert:hover {\n",
              "      background-color: #434B5C;\n",
              "      box-shadow: 0px 1px 3px 1px rgba(0, 0, 0, 0.15);\n",
              "      filter: drop-shadow(0px 1px 2px rgba(0, 0, 0, 0.3));\n",
              "      fill: #FFFFFF;\n",
              "    }\n",
              "  </style>\n",
              "\n",
              "      <script>\n",
              "        const buttonEl =\n",
              "          document.querySelector('#df-babd50b4-5994-48a3-b0cb-515c4ca0ef10 button.colab-df-convert');\n",
              "        buttonEl.style.display =\n",
              "          google.colab.kernel.accessAllowed ? 'block' : 'none';\n",
              "\n",
              "        async function convertToInteractive(key) {\n",
              "          const element = document.querySelector('#df-babd50b4-5994-48a3-b0cb-515c4ca0ef10');\n",
              "          const dataTable =\n",
              "            await google.colab.kernel.invokeFunction('convertToInteractive',\n",
              "                                                     [key], {});\n",
              "          if (!dataTable) return;\n",
              "\n",
              "          const docLinkHtml = 'Like what you see? Visit the ' +\n",
              "            '<a target=\"_blank\" href=https://colab.research.google.com/notebooks/data_table.ipynb>data table notebook</a>'\n",
              "            + ' to learn more about interactive tables.';\n",
              "          element.innerHTML = '';\n",
              "          dataTable['output_type'] = 'display_data';\n",
              "          await google.colab.output.renderOutput(dataTable, element);\n",
              "          const docLink = document.createElement('div');\n",
              "          docLink.innerHTML = docLinkHtml;\n",
              "          element.appendChild(docLink);\n",
              "        }\n",
              "      </script>\n",
              "    </div>\n",
              "  </div>\n",
              "  "
            ]
          },
          "metadata": {}
        }
      ]
    },
    {
      "cell_type": "code",
      "source": [],
      "metadata": {
        "id": "uwdhNd0RXINZ"
      },
      "execution_count": null,
      "outputs": []
    }
  ]
}